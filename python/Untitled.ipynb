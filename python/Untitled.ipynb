{
 "cells": [
  {
   "cell_type": "code",
   "execution_count": 1,
   "id": "8a237b81-b573-4126-b670-5391412450e3",
   "metadata": {},
   "outputs": [],
   "source": [
    "import numpy as np\n",
    "import matplotlib.pyplot as plt"
   ]
  },
  {
   "cell_type": "code",
   "execution_count": null,
   "id": "5ba7d01c-ab06-4858-ac87-a99abd752a9a",
   "metadata": {},
   "outputs": [],
   "source": [
    "def fourier_propagator(wavefront,direction):\n",
    "    if direction >= 0:\n",
    "        return np.fft.fftshift(np.fft.fft2(wavefront))\n",
    "    else:\n",
    "        return np.fft.fftshift(np.fft.ifft2(wavefront))\n",
    "\n",
    "def fresnel_propagator(wavefront,direction,distance, wavelength, pixel_size, magnification):\n",
    "\n",
    "    wavevector = 2*np.pi/wavelength\n",
    "\n",
    "    A = np.exp(1j*wavevector*distance)\n",
    "    \n",
    "    kernel = 1\n",
    "    \n",
    "    return A*np.fft.ifft2(kernel*np.fft.fftshift(np.fft.fft2(wavefront)))\n",
    "\n",
    "\n"
   ]
  }
 ],
 "metadata": {
  "kernelspec": {
   "display_name": "Python 3 (ipykernel)",
   "language": "python",
   "name": "python3"
  },
  "language_info": {
   "codemirror_mode": {
    "name": "ipython",
    "version": 3
   },
   "file_extension": ".py",
   "mimetype": "text/x-python",
   "name": "python",
   "nbconvert_exporter": "python",
   "pygments_lexer": "ipython3",
   "version": "3.9.6"
  }
 },
 "nbformat": 4,
 "nbformat_minor": 5
}
