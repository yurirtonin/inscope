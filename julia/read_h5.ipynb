{
 "cells": [
  {
   "cell_type": "code",
   "execution_count": 13,
   "id": "52dfbc8b-8171-4494-9490-5e244ac64dd7",
   "metadata": {},
   "outputs": [
    {
     "data": {
      "text/plain": [
       "🗂️ HDF5.File: (read-only) ../data/AuBalls/AuBalls_700ms_30nmStep_3_full.cxi\n",
       "├─ 🔢 cxi_version\n",
       "└─ 📂 entry_1\n",
       "   ├─ 📂 data_1\n",
       "   │  ├─ 🔢 data\n",
       "   │  │  └─ 🏷️ axes\n",
       "   │  └─ 🔢 translation\n",
       "   ├─ 📂 instrument_1\n",
       "   │  ├─ 📂 detector_1\n",
       "   │  │  ├─ 🔢 corner_position\n",
       "   │  │  ├─ 🔢 data\n",
       "   │  │  │  └─ 🏷️ axes\n",
       "   │  │  ├─ 🔢 data_dark\n",
       "   │  │  ├─ 🔢 distance\n",
       "   │  │  ├─ 🔢 translation\n",
       "   │  │  ├─ 🔢 x_pixel_size\n",
       "   │  │  └─ 🔢 y_pixel_size\n",
       "   │  ├─ 🔢 name\n",
       "   │  └─ 📂 source_1\n",
       "   │     ├─ 🔢 energy\n",
       "   │     └─ 🔢 name\n",
       "   ├─ 📂 sample_1\n",
       "   │  └─ 📂 geometry_1\n",
       "   │     └─ 🔢 translation\n",
       "   └─ 🔢 start_time"
      ]
     },
     "execution_count": 13,
     "metadata": {},
     "output_type": "execute_result"
    }
   ],
   "source": [
    "using HDF5\n",
    "\n",
    "path = \"../data/AuBalls/AuBalls_700ms_30nmStep_3_full.cxi\"\n",
    "\n",
    "# Open the HDF5 file in read-only mode\n",
    "file = h5open(path, \"r\")"
   ]
  },
  {
   "cell_type": "code",
   "execution_count": 17,
   "id": "2e2d413e-840d-4240-bcac-9f881b580fab",
   "metadata": {},
   "outputs": [
    {
     "data": {
      "text/plain": [
       "((621, 621, 800), (3, 800), 0.112, 1.9999999999999998e-5, 1.602e-16)"
      ]
     },
     "execution_count": 17,
     "metadata": {},
     "output_type": "execute_result"
    }
   ],
   "source": [
    "# Read a dataset from the file\n",
    "DPs = read(file[\"entry_1/data_1/data\"])\n",
    "positions = read(file[\"entry_1/data_1/translation\"])\n",
    "\n",
    "distance = read(file[\"entry_1/instrument_1/detector_1/distance\"])\n",
    "pixel_size = read(file[\"entry_1/instrument_1/detector_1/x_pixel_size\"])\n",
    "energy = read(file[\"entry_1/instrument_1/source_1/energy\"])\n",
    "\n",
    "size(dataset), size(positions), distance, pixel_size, energy"
   ]
  },
  {
   "cell_type": "code",
   "execution_count": null,
   "id": "0161a742-b29f-4ccc-bd72-5c41aace64f5",
   "metadata": {},
   "outputs": [],
   "source": []
  }
 ],
 "metadata": {
  "kernelspec": {
   "display_name": "Julia 1.8.5",
   "language": "julia",
   "name": "julia-1.8"
  },
  "language_info": {
   "file_extension": ".jl",
   "mimetype": "application/julia",
   "name": "julia",
   "version": "1.8.5"
  }
 },
 "nbformat": 4,
 "nbformat_minor": 5
}
