{
 "cells": [
  {
   "cell_type": "code",
   "execution_count": 2,
   "id": "d63968a2-cad8-43ce-8cdb-c9b319ff7eb5",
   "metadata": {},
   "outputs": [],
   "source": [
    "%matplotlib widget\n",
    "\n",
    "import numpy as np\n",
    "import matplotlib.pyplot as plt\n",
    "import h5py\n",
    "\n",
    "from jupyterlab_h5web import H5Web\n",
    "\n",
    "import misc"
   ]
  },
  {
   "cell_type": "code",
   "execution_count": 5,
   "id": "485cc26a-4d8f-473c-93de-2fbf003bcfa0",
   "metadata": {},
   "outputs": [
    {
     "data": {
      "text/plain": [
       "((800, 621, 621), (800, 2), 1.0, 0.112, 1.9999999999999998e-05)"
      ]
     },
     "execution_count": 5,
     "metadata": {},
     "output_type": "execute_result"
    }
   ],
   "source": [
    "path = \"../data/AuBalls/AuBalls_700ms_30nmStep_3_full.cxi\" # https://www.cxidb.org/id-65.html\n",
    "DPs, positions, energy, distance, pixel_size = misc.read_cxi(path)\n",
    "\n",
    "DPs.shape, positions.shape, energy, distance, pixel_size"
   ]
  },
  {
   "cell_type": "code",
   "execution_count": 4,
   "id": "5b0a4a15-cf78-4369-8d98-353d7c796891",
   "metadata": {},
   "outputs": [],
   "source": []
  },
  {
   "cell_type": "code",
   "execution_count": null,
   "id": "232d135f-3345-487b-b5f3-3b5952bb155c",
   "metadata": {},
   "outputs": [],
   "source": []
  }
 ],
 "metadata": {
  "kernelspec": {
   "display_name": "Python 3 (ipykernel)",
   "language": "python",
   "name": "python3"
  },
  "language_info": {
   "codemirror_mode": {
    "name": "ipython",
    "version": 3
   },
   "file_extension": ".py",
   "mimetype": "text/x-python",
   "name": "python",
   "nbconvert_exporter": "python",
   "pygments_lexer": "ipython3",
   "version": "3.9.6"
  }
 },
 "nbformat": 4,
 "nbformat_minor": 5
}
