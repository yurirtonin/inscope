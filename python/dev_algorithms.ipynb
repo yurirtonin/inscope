{
 "cells": [
  {
   "cell_type": "code",
   "execution_count": 1,
   "id": "d63968a2-cad8-43ce-8cdb-c9b319ff7eb5",
   "metadata": {},
   "outputs": [],
   "source": [
    "import numpy as np\n",
    "import matplotlib.pyplot as plt\n",
    "import h5py\n",
    "\n",
    "import misc"
   ]
  },
  {
   "cell_type": "code",
   "execution_count": 2,
   "id": "485cc26a-4d8f-473c-93de-2fbf003bcfa0",
   "metadata": {},
   "outputs": [
    {
     "data": {
      "text/plain": [
       "(1.0, 0.112, 1.9999999999999998e-05)"
      ]
     },
     "execution_count": 2,
     "metadata": {},
     "output_type": "execute_result"
    }
   ],
   "source": [
    "path = \"../data/AuBalls/AuBalls_700ms_30nmStep_3_full.cxi\" # https://www.cxidb.org/id-65.html\n",
    "DPs, positions, energy, distance, pixel_size = misc.read_cxi(path)"
   ]
  }
 ],
 "metadata": {
  "kernelspec": {
   "display_name": "Python 3 (ipykernel)",
   "language": "python",
   "name": "python3"
  },
  "language_info": {
   "codemirror_mode": {
    "name": "ipython",
    "version": 3
   },
   "file_extension": ".py",
   "mimetype": "text/x-python",
   "name": "python",
   "nbconvert_exporter": "python",
   "pygments_lexer": "ipython3",
   "version": "3.9.6"
  }
 },
 "nbformat": 4,
 "nbformat_minor": 5
}
