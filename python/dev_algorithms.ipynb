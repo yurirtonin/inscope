{
 "cells": [
  {
   "cell_type": "code",
   "execution_count": null,
   "id": "d63968a2-cad8-43ce-8cdb-c9b319ff7eb5",
   "metadata": {},
   "outputs": [],
   "source": [
    "import numpy as np\n",
    "import matplotlib.pyplot as plt\n",
    "\n",
    "import propagators"
   ]
  },
  {
   "cell_type": "code",
   "execution_count": null,
   "id": "485cc26a-4d8f-473c-93de-2fbf003bcfa0",
   "metadata": {},
   "outputs": [],
   "source": []
  }
 ],
 "metadata": {
  "kernelspec": {
   "display_name": "Python 3 (ipykernel)",
   "language": "python",
   "name": "python3"
  },
  "language_info": {
   "codemirror_mode": {
    "name": "ipython",
    "version": 3
   },
   "file_extension": ".py",
   "mimetype": "text/x-python",
   "name": "python",
   "nbconvert_exporter": "python",
   "pygments_lexer": "ipython3",
   "version": "3.9.6"
  }
 },
 "nbformat": 4,
 "nbformat_minor": 5
}
